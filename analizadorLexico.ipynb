{
 "cells": [
  {
   "attachments": {
    "scanner.png": {
     "image/png": "[encoded data removed]"
    }
   },
   "cell_type": "markdown",
   "metadata": {},
   "source": [
    "### Analisis Léxico\n",
    "\n",
    "Un **analizador léxico** o analizador lexicográfico (en inglés *scanner*) es la primera fase de un compilador consistente en un programa que recibe como **entrada el código fuente** de otro programa (secuencia de caracteres) y produce una **salida compuesta de tokens (componentes léxicos) o símbolos**. Estos **tokens** sirven para una posterior etapa del proceso de traducción, siendo la entrada para el analizador sintáctico (en inglés *parser*).\n",
    "\n",
    "La especificación de un lenguaje de programación a menudo incluye un **conjunto de reglas** que definen el léxico. Estas reglas consisten comúnmente en **expresiones regulares** que indican el conjunto de posibles secuencias de caracteres que definen un *token ó lexema*. En algunos lenguajes de programación es necesario establecer patrones para caracteres especiales (como el espacio en blanco) que la gramática pueda reconocer sin que constituya un token en sí.\n",
    "\n",
    "\n",
    "![scanner.png](attachment:scanner.png)\n",
    "\n",
    "\n",
    "\n",
    "### Desarrollar una analizador léxico \n",
    "\n",
    "Cómo un analizador léxico tiene que leer el código fuente y  reconocer patrones llamados tokens,  que no son mas que un conjunto de caracteres que definen componentes léxicos del lenguaje que estamos utilizando, por ejemplo en C : la palabra reservada **printf()**.  Entonces, si queremos desarrollar un analizador léxico debemos primeramente saber manipular cadenas de caracteres.\n",
    "\n"
   ]
  },
  {
   "cell_type": "markdown",
   "metadata": {},
   "source": [
    "# <center> Lenguajes y Autómatas II</center>\n",
    "## <center>Tema: Análisis Léxico </center>"
   ]
  },
  {
   "cell_type": "code",
   "execution_count": 1,
   "metadata": {},
   "outputs": [
    {
     "name": "stderr",
     "output_type": "stream",
     "text": [
      "C:\\Users\\Lenovo\\Anaconda3\\lib\\site-packages\\IPython\\core\\display.py:689: UserWarning: Consider using IPython.display.IFrame instead\n",
      "  warnings.warn(\"Consider using IPython.display.IFrame instead\")\n"
     ]
    },
    {
     "data": {
      "text/html": [
       "<iframe width=\"560\" height=\"315\" src=\"https://www.youtube.com/embed/idnS9MTwfOU\" frameborder=\"0\" allow=\"accelerometer; autoplay; encrypted-media; gyroscope; picture-in-picture\" allowfullscreen></iframe>"
      ],
      "text/plain": [
       "<IPython.core.display.HTML object>"
      ]
     },
     "execution_count": 1,
     "metadata": {},
     "output_type": "execute_result"
    }
   ],
   "source": [
    "from IPython.display import HTML\n",
    "\n",
    "\n",
    "HTML('<iframe width=\"560\" height=\"315\" src=\"https://www.youtube.com/embed/S_f2qV2_U00?rel=0&amp;controls=0&amp;showinfo=0\" frameborder=\"0\" allowfullscreen></iframe>')\n",
    "HTML('<iframe width=\"560\" height=\"315\" src=\"https://www.youtube.com/embed/idnS9MTwfOU\" frameborder=\"0\" allow=\"accelerometer; autoplay; encrypted-media; gyroscope; picture-in-picture\" allowfullscreen></iframe>')"
   ]
  },
  {
   "cell_type": "markdown",
   "metadata": {},
   "source": [
    "### Manipular cadenas de caracteres en python\n",
    "\n",
    "Si has estado expuesto antes a otro lenguaje de programación, sabrás que necesitas declarar o escribir variables antes de que puedas almacenar cualquier cosa en ellas. Esto no es necesario cuando trabajas con cadenas de caracteres en Python. Podemos crear una cadena de caracteres simplemente encerrando contenido entre comillas después de un signo de igual (=).\n",
    "\n",
    "ejemplo :\n",
    "```python\n",
    "          mensaje = \"Hola a Todos\"\n",
    " ```   \n"
   ]
  },
  {
   "cell_type": "code",
   "execution_count": 2,
   "metadata": {},
   "outputs": [
    {
     "name": "stdout",
     "output_type": "stream",
     "text": [
      "Hola Mundo desde el Analizador Léxico\n"
     ]
    }
   ],
   "source": [
    "# Definimos una variable tipo string\n",
    "mensaje = \"Hola Mundo desde el Analizador Léxico\"\n",
    "print(mensaje)"
   ]
  },
  {
   "cell_type": "markdown",
   "metadata": {},
   "source": [
    "### Operadores de cadenas de caracteres: adición y multiplicación\n",
    "Una cadena de caracteres es un objeto que consiste precisamente en una serie de signos o caracteres. Python sabe cómo tratar un número de representaciones poderosas y de propósito general, incluidas las cadenas de caracteres. Una forma de manipular cadenas de caracteres es utilizar operadores de cadenas de caracteres. Dichos operadores se representan con símbolos que asociamos a las matemáticas, como +, -, *, / y =. Estos signos realizan acciones similares a sus contrapartes matemáticas cuando se usan con las cadenas de carateres, aunque no iguales."
   ]
  },
  {
   "cell_type": "markdown",
   "metadata": {},
   "source": [
    "#### Concatenar\n",
    "Este término significa juntar cadenas de caracteres. El proceso de concatenación se realiza mediante el operador de suma (+). Ten en cuenta que debes marcar explícitamente dónde quieres los espacios en blanco y colocarlos entre comillas. En este ejemplo, la cadena de caracteres “mensaje” tiene el contenido “Hola Mundo desde el Anaizador Léxico”"
   ]
  },
  {
   "cell_type": "code",
   "execution_count": 3,
   "metadata": {},
   "outputs": [
    {
     "name": "stdout",
     "output_type": "stream",
     "text": [
      "Hola Mundo desde el Analizador Léxico\n"
     ]
    }
   ],
   "source": [
    "# Ejemplo de concatenación de cadenas\n",
    "mensaje = \"Hola Mundo\" + \" \" + \"desde el \"+\"Analizador Léxico\"\n",
    "print(mensaje)"
   ]
  },
  {
   "cell_type": "markdown",
   "metadata": {},
   "source": [
    "#### Multiplicar\n",
    "Si quieres varias copias de una cadena de caracteres utiliza el operador de multiplicación (*). En este ejemplo, la cadena de caracteres mensaje lleva el contenido “Hola” tres veces, mientras que la cadena de caracteres mensaje2 tiene el contenido “Mundo”. Ordenemos imprimir las dos cadenas."
   ]
  },
  {
   "cell_type": "code",
   "execution_count": 4,
   "metadata": {},
   "outputs": [
    {
     "name": "stdout",
     "output_type": "stream",
     "text": [
      "Hola Hola Hola Mundo\n"
     ]
    }
   ],
   "source": [
    "# Ejemplo de multiplicación de cadenas\n",
    "mensaje = \"Hola \" * 3\n",
    "mensaje2 = \"Mundo\"\n",
    "print(mensaje + mensaje2)"
   ]
  },
  {
   "cell_type": "markdown",
   "metadata": {},
   "source": [
    "#### Añadir\n",
    "¿Qué pasa si quieres añadir strings de manera sucesiva al final de una cadena de caracteres? El operador especial para ello es compuesto **(+=)**."
   ]
  },
  {
   "cell_type": "code",
   "execution_count": 5,
   "metadata": {},
   "outputs": [
    {
     "name": "stdout",
     "output_type": "stream",
     "text": [
      "Hola Mundo\n"
     ]
    }
   ],
   "source": [
    "mensaje3 = 'Hola'\n",
    "mensaje3 += ' '\n",
    "mensaje3 += 'Mundo'\n",
    "print(mensaje3)"
   ]
  },
  {
   "cell_type": "markdown",
   "metadata": {},
   "source": [
    "#### Métodos para cadenas de caracteres: buscar, cambiar\n",
    "En adición a los operadores, Python trae preinstalado docenas de métodos que te permiten hacer cosas con las cadenas de\n",
    "caracteres. Solos o en combinación, los métodos pueden hacer casi todo lo que te imagines con las cadenas de caracteres. \n",
    "Puedes usar como referencia la lista de métodos de cadenas de caracteres (String Methods) en el sitio web de Python, \n",
    "que incluye información de cómo utilizar correctamente cada uno. Para asegurar que tengas una comprensión básica de\n",
    "métodos para cadenas de caracteres, lo que sigue es una breve descripción de los utilizados más comúnmente.\n",
    "\n",
    "**Extensión**\n",
    "Puedes determinar el número de caracteres en una cadena utilizando el método _len_. Acuérdate que los espacios en blanco cuentan como un carácter.\n",
    "\n",
    "```python\n",
    "mensaje = 'hola' + ' ' + 'mundo'\n",
    "print(len(mensaje))\n",
    "```\n",
    "-> 10\n",
    "\n",
    "\n",
    "**Encontrar**\n",
    "Puedes buscar una sub-cadena en una cadena de caracteres utilizando el método _find_ y tu programa te indicará el índice de inicio de la misma. Esto es muy útil para procesos que veremos más adelante. Ten en mente que los índices están numerados de izquierda a derecha y que el número en el que se comienza a contar la posición es el 0, no el 1.\n",
    "\n",
    "```python\n",
    "mensaje5 = \"Hola Mundo\"\n",
    "mensaje5a = mensaje5.find(\"Mundo\")\n",
    "print(mensaje5a)\n",
    "```\n",
    "-> 5\n",
    "\n",
    "**Minúsculas**\n",
    "A veces es útil convertir una cadena de caracteres a minúsculas. Para ello se utiliza el método _lower_. Por ejemplo, al uniformar los caracteres permitimos que la computadora reconozca fácilmente que “Algunas Veces” y “algunas veces” son la misma frase.\n",
    "\n",
    "```python\n",
    "mensaje7 = \"HOLA MUNDO\"\n",
    "mensaje7a = mensaje7.lower()\n",
    "print(mensaje7a)\n",
    "```\n",
    "-> hola mundo\n",
    "\n",
    "Convertir las minúsculas en mayúsculas se logra cambiando  *.lower()* por *.upper()*. \n",
    "\n",
    "\n",
    "**Reemplazar**\n",
    "Si necesitas cambiar una sub-cadena de una cadena se puede utilizar el método *replace*.\n",
    "```python\n",
    "mensaje8 = \"HOLA MUNDO\"\n",
    "mensaje8a = mensaje7.replace(\"L\", \"pizza\")\n",
    "print(mensaje8a)\n",
    "```\n",
    "-> HOpizzaA MUNDO\n",
    "\n",
    "**Cortar**\n",
    "Si quieres cortar partes que no quieras del principio o del final de la cadena de caracteres, lo puedes hacer creando una sub-cadena. El mismo tipo de técnica te permite separar una cadena muy larga en componentes más manejables.\n",
    "\n",
    "```python\n",
    "    mensaje9 = \"Hola Mundo\"\n",
    "    mensaje9a = mensaje9[1:8]\n",
    "    print(mensaje9a)\n",
    "```\n",
    "-> ola Mun\n",
    "\n",
    "\n",
    "**División en trozos**\n",
    "Supongamos que tenemos una cadena que contiene una fecha, en formato día/mes/año. Podemos obtener fácilmente cada trozo de la cadena (cada dato de la fecha) utilizando el método *split*. Este método divide a la cadena en trozos, cortando cada trozo en cada ocurrencia de un separador, que se pasa como argumento.\n",
    "\n",
    "```python\n",
    "fecha = '17/05/2012'\n",
    "datos = fecha.split('/') # separamos la cadena por /\n",
    "print(datos)\n",
    "```\n",
    "-> ['17', '05', '2012'] \n",
    "\n",
    "###### Si no le damos a split un separador, la cadena será separada por espacios. Esto puede servir para obtener todas las palabras de una oración.\n",
    "\n",
    "\n",
    "**Ejercicio # 1.** Escriba un programa en Python que permita capturar una cadena de caracteres que signifiquen un comando de  impresion  en lenguaje Ansi C. Ejemplo:  printf(\"hola mundo\"); , print(velocidad); , etc.\n",
    "La salida debe ser el análisis léxico de esta cadena. \n",
    "<ol>\n",
    "    <li>La palabra reservada **printf**</li>\n",
    "    <li>El paréntesis de apertura **(**</li>\n",
    "    <li>La cadena de caracteres ó el identificador </li>\n",
    "    <li>El paréntesis de cierre **)**</li>\n",
    "    <li>El símbolo **;** de fin de sentencia </li>\n",
    "</ol>\n"
   ]
  },
  {
   "cell_type": "code",
   "execution_count": 2,
   "metadata": {},
   "outputs": [
    {
     "name": "stdout",
     "output_type": "stream",
     "text": [
      "HpizzaLA MUNDpizza\n"
     ]
    }
   ],
   "source": [
    "mensaje8 = \"HOLA MUNDO\"\n",
    "mensaje8a = mensaje8.replace(\"O\", \"pizza\")\n",
    "print(mensaje8a)"
   ]
  },
  {
   "cell_type": "code",
   "execution_count": null,
   "metadata": {},
   "outputs": [],
   "source": [
    "    mensaje9 = \"Hola Mundo\"\n",
    "    mensaje9a = mensaje9[1:8]\n",
    "    print(mensaje9a)"
   ]
  },
  {
   "cell_type": "code",
   "execution_count": null,
   "metadata": {},
   "outputs": [],
   "source": [
    "#Script para analizar lexicamente una sentencia printf en Ansi C\n",
    "#Autor: Guillermo Eduardo Granados Davalos\n",
    "#fecha: 6 de julio del 2019\n",
    "\n",
    "import ply.lex as lex\n",
    "\n",
    "# resultado del analisis\n",
    "resultado_lexema = []\n",
    "\n",
    "reservada = (\n",
    "    # Palabras Reservadas\n",
    "    'INCLUDE',\n",
    "    'USING',\n",
    "    'NAMESPACE',\n",
    "    'STD',\n",
    "    'COUT',\n",
    "    'CIN',\n",
    "   'GET',\n",
    "   'CADENA',\n",
    "  'RETURN',\n",
    "   'VOID',\n",
    "    'INT',\n",
    "    'ENDL',\n",
    ")\n",
    "tokens = reservada + (\n",
    "    'IDENTIFICADOR',\n",
    "    'ENTERO',\n",
    "    'ASIGNAR',\n",
    "\n",
    "    'SUMA',\n",
    "    'RESTA',\n",
    "    'MULT',\n",
    "    'DIV',\n",
    "    'POTENCIA',\n",
    "    'MODULO',\n",
    "\n",
    "   'MINUSMINUS',\n",
    "   'PLUSPLUS',\n",
    "\n",
    "    #Condiones\n",
    "   'SI',\n",
    "    'SINO',\n",
    "    #Ciclos\n",
    "   'MIENTRAS',\n",
    "   'PARA',\n",
    "    #logica\n",
    "    'AND',\n",
    "    'OR',\n",
    "    'NOT',\n",
    "    'MENORQUE',\n",
    "    'MENORIGUAL',\n",
    "    'MAYORQUE',\n",
    "    'MAYORIGUAL',\n",
    "    'IGUAL',\n",
    "    'DISTINTO',\n",
    "    # Symbolos\n",
    "    'NUMERAL',\n",
    "\n",
    "    'PARIZQ',\n",
    "    'PARDER',\n",
    "    'CORIZQ',\n",
    "    'CORDER',\n",
    "    'LLAIZQ',\n",
    "    'LLADER',\n",
    "    \n",
    "    # Otros\n",
    "    'PUNTOCOMA',\n",
    "    'COMA',\n",
    "    'COMDOB',\n",
    "    'MAYORDER', #>>\n",
    "    'MAYORIZQ', #<<\n",
    ")\n",
    "\n",
    "# Reglas de Expresiones Regualres para token de Contexto simple\n",
    "\n",
    "t_SUMA = r'\\+'\n",
    "t_RESTA = r'-'\n",
    "t_MINUSMINUS = r'\\-\\-'\n",
    "# t_PUNTO = r'\\.'\n",
    "t_MULT = r'\\*'\n",
    "t_DIV = r'/'\n",
    "t_MODULO = r'\\%'\n",
    "t_POTENCIA = r'(\\*{2} | \\^)'\n",
    "\n",
    "t_ASIGNAR = r'='\n",
    "# Expresiones Logicas\n",
    "t_AND = r'\\&\\&'\n",
    "t_OR = r'\\|{2}'\n",
    "t_NOT = r'\\!'\n",
    "t_MENORQUE = r'<'\n",
    "t_MAYORQUE = r'>'\n",
    "t_PUNTOCOMA = ';'\n",
    "t_COMA = r','\n",
    "t_PARIZQ = r'\\('\n",
    "t_PARDER = r'\\)'\n",
    "t_CORIZQ = r'\\['\n",
    "t_CORDER = r'\\]'\n",
    "t_LLAIZQ = r'{'\n",
    "t_LLADER = r'}'\n",
    "t_COMDOB = r'\\\"'\n",
    "\n",
    "\n",
    "\n",
    "def t_INCLUDE(t):\n",
    "    r'include'\n",
    "    return t\n",
    "\n",
    "def t_USING(t):\n",
    "    r'using'\n",
    "    return t\n",
    "\n",
    "def t_NAMESPACE(t):\n",
    "    r'namespace'\n",
    "    return t\n",
    "\n",
    "def t_STD(t):\n",
    "    r'std'\n",
    "    return t\n",
    "\n",
    "def t_COUT(t):\n",
    "    r'cout'\n",
    "    return t\n",
    "\n",
    "def t_CIN(t):\n",
    "    r'cin'\n",
    "    return t\n",
    "\n",
    "def t_GET(t):\n",
    "    r'get'\n",
    "    return t\n",
    "\n",
    "def t_ENDL(t):\n",
    "    r'endl'\n",
    "    return t\n",
    "\n",
    "def t_SINO(t):\n",
    "    r'else'\n",
    "    return t\n",
    "\n",
    "def t_SI(t):\n",
    "    r'if'\n",
    "    return t\n",
    "\n",
    "def t_RETURN(t):\n",
    "   r'return'\n",
    "   return t\n",
    "\n",
    "def t_VOID(t):\n",
    "   r'void'\n",
    "   return t\n",
    "\n",
    "def t_MIENTRAS(t):\n",
    "    r'while'\n",
    "    return t\n",
    "\n",
    "def t_PARA(t):\n",
    "    r'for'\n",
    "    return t\n",
    "\n",
    "def t_ENTERO(t):\n",
    "    r'\\d+'\n",
    "    t.value = int(t.value)\n",
    "    return t\n",
    "\n",
    "def t_IDENTIFICADOR(t):\n",
    "    r'\\w+(_\\d\\w)*'\n",
    "    return t\n",
    "\n",
    "def t_CADENA(t):\n",
    "   r'\\\"?(\\w+ \\ *\\w*\\d* \\ *)\\\"?'\n",
    "   return t\n",
    "\n",
    "def t_NUMERAL(t):\n",
    "    r'\\#'\n",
    "    return t\n",
    "\n",
    "def t_PLUSPLUS(t):\n",
    "    r'\\+\\+'\n",
    "    return t\n",
    "\n",
    "def t_MENORIGUAL(t):\n",
    "    r'<='\n",
    "    return t\n",
    "\n",
    "def t_MAYORIGUAL(t):\n",
    "    r'>='\n",
    "    return t\n",
    "\n",
    "def t_IGUAL(t):\n",
    "    r'=='\n",
    "    return t\n",
    "\n",
    "def t_MAYORDER(t):\n",
    "    r'<<'\n",
    "    return t\n",
    "\n",
    "def t_MAYORIZQ(t):\n",
    "    r'>>'\n",
    "    return t\n",
    "\n",
    "def t_DISTINTO(t):\n",
    "    r'!='\n",
    "    return t\n",
    "\n",
    "def t_newline(t):\n",
    "    r'\\n+'\n",
    "    t.lexer.lineno += len(t.value)\n",
    "\n",
    "def t_comments(t):\n",
    "    r'/\\*(.|\\n)*?\\*/'\n",
    "    t.lexer.lineno += t.value.count('\\n')\n",
    "    print(\"Comentario de multiple linea\")\n",
    "\n",
    "def t_comments_ONELine(t):\n",
    "     r'\\/\\/(.)*\\n'\n",
    "     t.lexer.lineno += 1\n",
    "     print(\"Comentario de una linea\")\n",
    "t_ignore =' \\t'\n",
    "\n",
    "def t_error( t):\n",
    "    global resultado_lexema\n",
    "    estado = \"** Token no valido en la Linea {:4} Valor {:16} Posicion {:4}\".format(str(t.lineno), str(t.value),\n",
    "                                                                      str(t.lexpos))\n",
    "    resultado_lexema.append(estado)\n",
    "    t.lexer.skip(1)\n",
    "\n",
    "# Prueba de ingreso\n",
    "def prueba(data):\n",
    "    global resultado_lexema\n",
    "\n",
    "    analizador = lex.lex()\n",
    "    analizador.input(data)\n",
    "\n",
    "    resultado_lexema.clear()\n",
    "    while True:\n",
    "        tok = analizador.token()\n",
    "        if not tok:\n",
    "            break\n",
    "        # print(\"lexema de \"+tok.type+\" valor \"+tok.value+\" linea \"tok.lineno)\n",
    "        estado = \"Linea {:4} Tipo {:16} Valor {:16} Posicion {:4}\".format(str(tok.lineno),str(tok.type) ,str(tok.value), str(tok.lexpos) )\n",
    "        resultado_lexema.append(estado)\n",
    "    return resultado_lexema\n",
    "\n",
    " # instanciamos el analizador lexico\n",
    "analizador = lex.lex()\n",
    "\n",
    "if __name__ == '__main__':\n",
    "    while True:\n",
    "        data = input(\"ingrese: \")\n",
    "        prueba(data)\n",
    "print(resultado_lexema)"
   ]
  },
  {
   "attachments": {
    "ejercicio2.PNG": {
     "image/png": "[encoded data removed]"
    },
    "ejercicio3.PNG": {
     "image/png": "[encoded data removed]"
    },
    "ejericio1.PNG": {
     "image/png": "[encoded data removed]"
    }
   },
   "cell_type": "markdown",
   "metadata": {},
   "source": [
    "### EXPRESIONES REGULARES \n",
    "En cómputo teórico y teoría de lenguajes formales una expresión regular, también conocida como regex, regexp1​ o expresión racional,2​3​ es una secuencia de caracteres que forma un patrón de búsqueda, principalmente utilizada para la búsqueda de patrones de cadenas de caracteres u operaciones de sustituciones. Por ejemplo, el grupo formado por las cadenas Handel, Händel y Haendel se describe con el patrón \"H(a|ä|ae)ndel\". La mayoría de las formalizaciones proporcionan los siguientes constructores: una expresión regular es una forma de representar los lenguajes regulares (finitos o infinitos) y se construye utilizando caracteres del alfabeto sobre el cual se define el lenguaje. [Wikipedia, 2019]\n",
    "\n",
    "En informática, las expresiones regulares proporcionan una manera muy flexible de buscar o reconocer cadenas de texto.\n",
    "### Ejercicios\n",
    "\n",
    "<h4> Ejercicios1:Dado el alfabeto {a b}, escriba los siguientes lenguaes por medio de expresiones regulares</h4>\n",
    "<li>1.cadenas a's y b's que inician con a</li>\n",
    "\n",
    "![ejericio1.PNG](attachment:ejericio1.PNG)\n",
    "\n",
    "\n",
    "<li>2. cadenas de a's y b's compuestas por un numero par de a´s </li>\n",
    "\n",
    "![ejercicio2.PNG](attachment:ejercicio2.PNG)\n",
    "\n",
    "<li>3. cadenas que finalicen en ab y que sean al menos de cuatro caracteres de longitud </li>\n",
    "\n",
    "![ejercicio3.PNG](attachment:ejercicio3.PNG)\n",
    "\n",
    "<li>4. Palindromas de a's y b's </li>\n",
    "\n",
    "<li>5. para el siguiente programa escrito en un subconjunto de Ada, encuentre y clasifique todos los tokens </li>\n",
    "\n",
    "~~~ \n",
    "   BEGIN\n",
    "   A :=B3;\n",
    "   Xyz := A + B + C - P/1;\n",
    "   A : Xyz * (P + Q):\n",
    "   \n",
    "~~~ \n",
    "\n",
    "|ESTADOS|     a     | b |\n",
    "|-------|-----------|---:|\n",
    "|0      |     1     | $1600|\n",
    "|1      |  centered | $1600|\n",
    "|2      |     1     | $1600|\n",
    "\n",
    "\n",
    "### EXPRSIONES LAMBDA\n",
    "Una función lambda es cuando enviamos a una función de orden superior directamente una función anónima.\n",
    "\n",
    "Es más común enviar una expresión lambda en lugar de enviar la referencia de una función como vimos en el concepto anterior.\n",
    "###Problema 1\n",
    "Definir una función de orden superior llamada operar. Llegan como parámetro dos enteros y una función. En el bloque de la función llamar a la función que llega como parámetro y enviar los dos primeros parámetros.\n",
    "\n",
    "Desde el bloque principal llamar a operar y enviar distintas expresiones lambdas que permitan sumar, restar, multiplicar y dividir .\n",
    "\n",
    "def operar(v1,v2,fn):\n",
    "    return fn(v1,v2)\n",
    "\n",
    "resu1=operar(10,3,lambda x1,x2: x1+x2)\n",
    "print(resu1)\n",
    "\n",
    "resu2=operar(10,3,lambda x1,x2: x1-x2)\n",
    "print(resu2)\n",
    "\n",
    "print(operar(30,10,lambda x1,x2: x1*x2))\n",
    "\n",
    "print(operar(10,2,lambda x1,x2: x1/x2))"
   ]
  },
  {
   "cell_type": "code",
   "execution_count": null,
   "metadata": {},
   "outputs": [],
   "source": []
  }
 ],
 "metadata": {
  "kernelspec": {
   "display_name": "Python 3",
   "language": "python",
   "name": "python3"
  },
  "language_info": {
   "codemirror_mode": {
    "name": "ipython",
    "version": 3
   },
   "file_extension": ".py",
   "mimetype": "text/x-python",
   "name": "python",
   "nbconvert_exporter": "python",
   "pygments_lexer": "ipython3",
   "version": "3.7.3"
  }
 },
 "nbformat": 4,
 "nbformat_minor": 2
}
